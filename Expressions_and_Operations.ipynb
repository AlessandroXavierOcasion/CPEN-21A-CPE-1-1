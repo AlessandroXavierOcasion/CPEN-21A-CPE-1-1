{
  "nbformat": 4,
  "nbformat_minor": 0,
  "metadata": {
    "colab": {
      "name": "Expressions and Operations.ipynb",
      "provenance": [],
      "collapsed_sections": [],
      "authorship_tag": "ABX9TyN4sXIpjYB7ApEKGFul/8Jt",
      "include_colab_link": true
    },
    "kernelspec": {
      "name": "python3",
      "display_name": "Python 3"
    },
    "language_info": {
      "name": "python"
    }
  },
  "cells": [
    {
      "cell_type": "markdown",
      "metadata": {
        "id": "view-in-github",
        "colab_type": "text"
      },
      "source": [
        "<a href=\"https://colab.research.google.com/github/AlessandroXavierOcasion/CPEN-21A-CPE-1-1/blob/main/Expressions_and_Operations.ipynb\" target=\"_parent\"><img src=\"https://colab.research.google.com/assets/colab-badge.svg\" alt=\"Open In Colab\"/></a>"
      ]
    },
    {
      "cell_type": "code",
      "metadata": {
        "id": "mgfS8Q8QdrrD"
      },
      "source": [
        "##Boolean Operations\n",
        "#Booleans represents one of two values: True or False\n"
      ],
      "execution_count": null,
      "outputs": []
    },
    {
      "cell_type": "code",
      "metadata": {
        "colab": {
          "base_uri": "https://localhost:8080/"
        },
        "id": "T84sqQOfgo0V",
        "outputId": "91674703-ad39-469e-d4ad-fa60705e7cda"
      },
      "source": [
        "print(11>10)\n",
        "print(11==10)\n",
        "print(10>11)"
      ],
      "execution_count": 3,
      "outputs": [
        {
          "output_type": "stream",
          "name": "stdout",
          "text": [
            "True\n",
            "False\n",
            "False\n"
          ]
        }
      ]
    },
    {
      "cell_type": "code",
      "metadata": {
        "id": "wDH86LoCfr2G",
        "colab": {
          "base_uri": "https://localhost:8080/"
        },
        "outputId": "da77a500-8e79-4bea-f439-af82ea44f573"
      },
      "source": [
        "print(bool(True))\n",
        "print(bool(False))\n",
        "print(bool(1))\n",
        "print(bool(0))\n",
        "print(bool([]))\n",
        "print(bool)"
      ],
      "execution_count": 6,
      "outputs": [
        {
          "output_type": "stream",
          "name": "stdout",
          "text": [
            "True\n",
            "False\n",
            "True\n",
            "False\n",
            "False\n"
          ]
        }
      ]
    },
    {
      "cell_type": "code",
      "metadata": {
        "colab": {
          "base_uri": "https://localhost:8080/"
        },
        "id": "eOccFsU8hyVR",
        "outputId": "734c5658-5e63-49b8-918c-292dd43acd64"
      },
      "source": [
        "def myFunction():return True\n",
        "print(myFunction())"
      ],
      "execution_count": 7,
      "outputs": [
        {
          "output_type": "stream",
          "name": "stdout",
          "text": [
            "True\n"
          ]
        }
      ]
    },
    {
      "cell_type": "code",
      "metadata": {
        "colab": {
          "base_uri": "https://localhost:8080/"
        },
        "id": "ioxQt3JsiU52",
        "outputId": "52dd4b94-be77-40d6-8fce-53f38533ae9f"
      },
      "source": [
        "def myFunction():return False\n",
        "print(myFunction())"
      ],
      "execution_count": 8,
      "outputs": [
        {
          "output_type": "stream",
          "name": "stdout",
          "text": [
            "False\n"
          ]
        }
      ]
    },
    {
      "cell_type": "code",
      "metadata": {
        "colab": {
          "base_uri": "https://localhost:8080/"
        },
        "id": "wv8qqpM5iXmv",
        "outputId": "d0ae6dcd-1f83-4ac2-9032-fbb23588fadd"
      },
      "source": [
        "def myFunction():return True\n",
        "print(myFunction())\n",
        "\n",
        "if myFunction():\n",
        " print(\"YES\")\n",
        "else:\n",
        " print(\"NO\")"
      ],
      "execution_count": 9,
      "outputs": [
        {
          "output_type": "stream",
          "name": "stdout",
          "text": [
            "True\n",
            "YES\n"
          ]
        }
      ]
    },
    {
      "cell_type": "markdown",
      "metadata": {
        "id": "VBG-zX5vivjH"
      },
      "source": [
        "YOU TRY"
      ]
    },
    {
      "cell_type": "code",
      "metadata": {
        "colab": {
          "base_uri": "https://localhost:8080/"
        },
        "id": "HrMxgqJGiygE",
        "outputId": "1539e4d7-8880-4c05-8d6e-6e3b5ebeb961"
      },
      "source": [
        "print(10>9)\n",
        "a=6\n",
        "b=7\n",
        "\n",
        "print(a==b)\n",
        "print(a!=a)"
      ],
      "execution_count": 12,
      "outputs": [
        {
          "output_type": "stream",
          "name": "stdout",
          "text": [
            "True\n",
            "False\n",
            "False\n"
          ]
        }
      ]
    },
    {
      "cell_type": "markdown",
      "metadata": {
        "id": "-5D1TtP0j3mm"
      },
      "source": [
        "PYTHON OPERATORS"
      ]
    },
    {
      "cell_type": "code",
      "metadata": {
        "colab": {
          "base_uri": "https://localhost:8080/"
        },
        "id": "1lmnEStHjDC4",
        "outputId": "bb24d4cf-68e1-4009-9ff2-6e402a4c5194"
      },
      "source": [
        "print(10+5)\n",
        "print(10-5)\n",
        "print(10*5)\n",
        "print(10/5) #division-quotient\n",
        "print(10%5) #modulo\n",
        "print(10%3) #modulo \n",
        "print(10//3) #floor \n",
        "print(10**2) #concatenation "
      ],
      "execution_count": 18,
      "outputs": [
        {
          "output_type": "stream",
          "name": "stdout",
          "text": [
            "15\n",
            "5\n",
            "50\n",
            "2.0\n",
            "0\n",
            "1\n",
            "3\n",
            "100\n"
          ]
        }
      ]
    },
    {
      "cell_type": "code",
      "metadata": {
        "colab": {
          "base_uri": "https://localhost:8080/"
        },
        "id": "z7aNL788k-P6",
        "outputId": "8cd567d5-9726-4211-be00-dab97cc3f948"
      },
      "source": [
        "a=60 #0011 1100  \n",
        "b=13 #0000 1101\n",
        "print(a&b)\n",
        "print(a|b)\n",
        "print(a<<1)\n",
        "print(a<<2)\n",
        "print(a>>1)\n",
        "print(a>>2)"
      ],
      "execution_count": 23,
      "outputs": [
        {
          "output_type": "stream",
          "name": "stdout",
          "text": [
            "12\n",
            "61\n",
            "120\n",
            "240\n",
            "30\n",
            "15\n"
          ]
        }
      ]
    },
    {
      "cell_type": "code",
      "metadata": {
        "colab": {
          "base_uri": "https://localhost:8080/"
        },
        "id": "JbiMpzW1p6VZ",
        "outputId": "d6bfea8a-2cd6-4750-a875-2ed307ee3395"
      },
      "source": [
        "a+=2 #same as a = a + 2, a = 60 + 2, a=62\n",
        "print(a)"
      ],
      "execution_count": 24,
      "outputs": [
        {
          "output_type": "stream",
          "name": "stdout",
          "text": [
            "62\n"
          ]
        }
      ]
    },
    {
      "cell_type": "markdown",
      "metadata": {
        "id": "CnMks4eBqhhV"
      },
      "source": [
        "LOGICAL OPERATOR"
      ]
    },
    {
      "cell_type": "code",
      "metadata": {
        "colab": {
          "base_uri": "https://localhost:8080/"
        },
        "id": "NINPok3_qcbS",
        "outputId": "7f479b7f-d2ce-4f13-a5a3-9ffc9cad35b9"
      },
      "source": [
        "a=True\n",
        "b=False\n",
        "\n",
        "print (a and b)\n",
        "print (a or b)\n",
        "print (not(a and b))\n",
        "print (not(a and b))"
      ],
      "execution_count": 25,
      "outputs": [
        {
          "output_type": "stream",
          "name": "stdout",
          "text": [
            "False\n",
            "True\n",
            "True\n",
            "True\n"
          ]
        }
      ]
    },
    {
      "cell_type": "code",
      "metadata": {
        "colab": {
          "base_uri": "https://localhost:8080/"
        },
        "id": "liH0ded0sLIm",
        "outputId": "1c2f99b3-4576-4a5e-f815-97af5b64fe83"
      },
      "source": [
        "a=60\n",
        "b=13\n",
        "(a>b) and (a<b)\n",
        "(a>b) or (a<b)\n",
        "not(a>b)"
      ],
      "execution_count": 28,
      "outputs": [
        {
          "output_type": "execute_result",
          "data": {
            "text/plain": [
              "True"
            ]
          },
          "metadata": {},
          "execution_count": 27
        },
        {
          "output_type": "execute_result",
          "data": {
            "text/plain": [
              "False"
            ]
          },
          "metadata": {},
          "execution_count": 28
        }
      ]
    },
    {
      "cell_type": "code",
      "metadata": {
        "colab": {
          "base_uri": "https://localhost:8080/"
        },
        "id": "5UNBPviYswnh",
        "outputId": "bb1adb14-999b-4dd1-ddc8-f3ed4e4efecc"
      },
      "source": [
        "print(a is b)\n",
        "print (a is not b)"
      ],
      "execution_count": 30,
      "outputs": [
        {
          "output_type": "stream",
          "name": "stdout",
          "text": [
            "False\n",
            "True\n"
          ]
        }
      ]
    }
  ]
}