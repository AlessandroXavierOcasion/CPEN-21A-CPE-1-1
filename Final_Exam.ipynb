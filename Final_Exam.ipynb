{
  "nbformat": 4,
  "nbformat_minor": 0,
  "metadata": {
    "colab": {
      "name": "Final Exam.ipynb",
      "provenance": [],
      "authorship_tag": "ABX9TyMuVnvO2O5TConG2UvNxZop",
      "include_colab_link": true
    },
    "kernelspec": {
      "name": "python3",
      "display_name": "Python 3"
    },
    "language_info": {
      "name": "python"
    }
  },
  "cells": [
    {
      "cell_type": "markdown",
      "metadata": {
        "id": "view-in-github",
        "colab_type": "text"
      },
      "source": [
        "<a href=\"https://colab.research.google.com/github/AlessandroXavierOcasion/CPEN-21A-CPE-1-1/blob/main/Final_Exam.ipynb\" target=\"_parent\"><img src=\"https://colab.research.google.com/assets/colab-badge.svg\" alt=\"Open In Colab\"/></a>"
      ]
    },
    {
      "cell_type": "markdown",
      "source": [
        "Problem statement 1"
      ],
      "metadata": {
        "id": "eKpoluqg_aHl"
      }
    },
    {
      "cell_type": "code",
      "execution_count": 10,
      "metadata": {
        "colab": {
          "base_uri": "https://localhost:8080/"
        },
        "id": "7GMQhDpm8GIc",
        "outputId": "32bd4878-7367-4f7d-ac1b-8fdd9a83f395"
      },
      "outputs": [
        {
          "output_type": "stream",
          "name": "stdout",
          "text": [
            "-4\n"
          ]
        }
      ],
      "source": [
        "num = [ 0, 1, 2, 3, 4, 5, -1, -2, -3, -4]\n",
        "for x in (num):\n",
        "  sum = x\n",
        "print(sum)"
      ]
    },
    {
      "cell_type": "markdown",
      "source": [
        "Problem Statement 2"
      ],
      "metadata": {
        "id": "vi56Xuw4Mlbt"
      }
    },
    {
      "cell_type": "code",
      "source": [
        "x = int(input(\"1st digit: \"))\n",
        "while (x !=0):\n",
        "  a = int(input(\"2nd digit: \"))\n",
        "  b = int(input(\"3rd digit: \"))\n",
        "  c = int(input(\"4th digit: \"))\n",
        "  d = int(input(\"5th digit: \"))\n",
        "  break\n",
        "  y = a\n",
        "while (x !=0):\n",
        "  y = x + a\n",
        "  print(\"The sum of the first and last digit is\",y)\n",
        "  x -= 1\n",
        "  break"
      ],
      "metadata": {
        "colab": {
          "base_uri": "https://localhost:8080/"
        },
        "id": "o1iRTNKvMnr1",
        "outputId": "af4f9f04-ff43-46a2-ba09-4666b8d065d3"
      },
      "execution_count": 8,
      "outputs": [
        {
          "output_type": "stream",
          "name": "stdout",
          "text": [
            "1st digit: 162\n",
            "2nd digit: 82\n",
            "3rd digit: 384\n",
            "4th digit: 59\n",
            "5th digit: 5\n",
            "The sum of the first and last digit is 244\n"
          ]
        }
      ]
    },
    {
      "cell_type": "markdown",
      "source": [
        "Problem Statement 3"
      ],
      "metadata": {
        "id": "7Ix2P1_URQE3"
      }
    },
    {
      "cell_type": "code",
      "source": [
        "grade = float(input(\"Enter your numerical grade: \"))\n",
        "if grade >=90:\n",
        "  print(\"Character Grade A\")\n",
        "elif grade >=80:\n",
        "  print(\"Character Grade B\")\n",
        "elif grade >=70:\n",
        "  print(\"Character Grade C\")\n",
        "elif grade >=60:\n",
        "  print(\"Character Grade D\")\n",
        "else:\n",
        "  print(\"Character Grade F\")"
      ],
      "metadata": {
        "colab": {
          "base_uri": "https://localhost:8080/"
        },
        "id": "tZdmW3mQRSET",
        "outputId": "12989ef5-d745-4fb8-84b9-fc06439227f6"
      },
      "execution_count": 15,
      "outputs": [
        {
          "output_type": "stream",
          "name": "stdout",
          "text": [
            "Enter your numerical grade: 89\n",
            "Character Grade B\n"
          ]
        }
      ]
    }
  ]
}