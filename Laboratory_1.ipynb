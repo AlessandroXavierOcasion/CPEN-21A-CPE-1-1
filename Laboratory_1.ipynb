{
  "nbformat": 4,
  "nbformat_minor": 0,
  "metadata": {
    "colab": {
      "name": "Laboratory 1.ipynb",
      "provenance": [],
      "authorship_tag": "ABX9TyPQmK4yWGfE/p17sIUJ+jVB",
      "include_colab_link": true
    },
    "kernelspec": {
      "name": "python3",
      "display_name": "Python 3"
    },
    "language_info": {
      "name": "python"
    }
  },
  "cells": [
    {
      "cell_type": "markdown",
      "metadata": {
        "id": "view-in-github",
        "colab_type": "text"
      },
      "source": [
        "<a href=\"https://colab.research.google.com/github/AlessandroXavierOcasion/CPEN-21A-CPE-1-1/blob/main/Laboratory_1.ipynb\" target=\"_parent\"><img src=\"https://colab.research.google.com/assets/colab-badge.svg\" alt=\"Open In Colab\"/></a>"
      ]
    },
    {
      "cell_type": "code",
      "metadata": {
        "id": "9blf2GEWXvYl"
      },
      "source": [
        "print(“Welcome to Python Programming”)"
      ],
      "execution_count": null,
      "outputs": []
    },
    {
      "cell_type": "code",
      "metadata": {
        "colab": {
          "base_uri": "https://localhost:8080/"
        },
        "id": "jzN7g-zSYCnn",
        "outputId": "3f1821f7-135e-4405-8c18-539aed90fb81"
      },
      "source": [
        "Name = \"Alessandro Xavier T. Ocasion\"\n",
        "Address = \"Block 5 Lot 28 Ph 2 Callisia Street, Lancaster Residence Village 2, Imus, Cavite\"\n",
        "Age = \"18\"\n",
        "print(\"Hi ny name is\" + \" \" + Name + \".\" + \" \" + \"I live in\" + \" \" + Address + \".\" + \" \" + \"My age is\" + \" \" + Age+ \".\")"
      ],
      "execution_count": 3,
      "outputs": [
        {
          "output_type": "stream",
          "name": "stdout",
          "text": [
            "Hi ny name is Alessandro Xavier T. Ocasion. I live in Block 5 Lot 28 Ph 2 Callisia Street, Lancaster Residence Village 2, Imus, Cavite. My age is 18.\n"
          ]
        }
      ]
    }
  ]
}