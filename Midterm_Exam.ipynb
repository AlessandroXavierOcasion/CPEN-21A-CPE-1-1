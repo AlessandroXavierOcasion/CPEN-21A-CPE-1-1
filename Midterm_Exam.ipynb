{
  "nbformat": 4,
  "nbformat_minor": 0,
  "metadata": {
    "colab": {
      "name": "Midterm Exam.ipynb",
      "provenance": [],
      "authorship_tag": "ABX9TyMuvtmeiyiJrQroKIbidAPd",
      "include_colab_link": true
    },
    "kernelspec": {
      "name": "python3",
      "display_name": "Python 3"
    },
    "language_info": {
      "name": "python"
    }
  },
  "cells": [
    {
      "cell_type": "markdown",
      "metadata": {
        "id": "view-in-github",
        "colab_type": "text"
      },
      "source": [
        "<a href=\"https://colab.research.google.com/github/AlessandroXavierOcasion/CPEN-21A-CPE-1-1/blob/main/Midterm_Exam.ipynb\" target=\"_parent\"><img src=\"https://colab.research.google.com/assets/colab-badge.svg\" alt=\"Open In Colab\"/></a>"
      ]
    },
    {
      "cell_type": "markdown",
      "metadata": {
        "id": "aEY5bbzSi-xA"
      },
      "source": [
        "Midterm Exam"
      ]
    },
    {
      "cell_type": "code",
      "metadata": {
        "colab": {
          "base_uri": "https://localhost:8080/"
        },
        "id": "4XGoZZ2Pi_tA",
        "outputId": "d1cfd0e7-db0e-40d2-9b6a-3c778d76b496"
      },
      "source": [
        "a = \"Alessandro Xavier T. Ocasion\"\n",
        "b = \"202101502\"\n",
        "c = \"18\"\n",
        "d = \"December 26\"\n",
        "e = \"Block 5 Lot 28 Ph 2 Callisia Street, Lancaster Residence Village 2, Imus, Cavite\"\n",
        "f = \"BSCpE 1-1\"\n",
        "g = \"97\"\n",
        "print(\"My\"+\" \"+\"name\"+\" \"+\"is\"+\" \"+a)\n",
        "print(\"My\"+\" \"+\"Student\"+\" \"+\"number\"+\" \"+\"is\"+\" \"+b)\n",
        "print(\"My\"+\" \"+\"age\"+\" \"+\"is\"+\" \"+c)\n",
        "print(\"My\"+\" \"+\"birthday\"+\" \"+\"is\"+\" \"+d)\n",
        "print(\"My\"+\" \"+\"address\"+\" \"+\"is\"+\" \"+e)\n",
        "print(\"My\"+\" \"+\"course\"+\" \"+\"is\"+\" \"+f)\n",
        "print(\"My\"+\" \"+\"last\"+\" \"+\"Sem\"+\" \"+\"GWA\"+\" \"+\"is\"+\" \"+g)"
      ],
      "execution_count": 37,
      "outputs": [
        {
          "output_type": "stream",
          "name": "stdout",
          "text": [
            "My name is Alessandro Xavier T. Ocasion\n",
            "My Student number is 202101502\n",
            "My age is 18\n",
            "My birthday is December 26\n",
            "My address is Block 5 Lot 28 Ph 2 Callisia Street, Lancaster Residence Village 2, Imus, Cavite\n",
            "My course is BSCpE 1-1\n",
            "My last Sem GWA is 97\n"
          ]
        }
      ]
    },
    {
      "cell_type": "code",
      "metadata": {
        "colab": {
          "base_uri": "https://localhost:8080/"
        },
        "id": "-bRCeg6fk5NU",
        "outputId": "e06bdac6-da09-4a25-8728-cbf9af645b02"
      },
      "source": [
        "n=4\n",
        "answ = \"Y\"\n",
        "print(2<n) and (n<6)\n",
        "print(2<n) or (n==6)\n",
        "print(not(2<n)) or (n==6)\n",
        "print(not(n<6))\n",
        "print(answ==\"Y\") or (answ==\"y\")\n",
        "print(answ==\"Y\") and (answ==\"y\")\n",
        "print(not(answ==\"y\"))\n",
        "print((2<n)and(n==5+1)) or (answ==\"No\")\n",
        "print((n==2)and(n==7) or (answ==\"Y\"))\n",
        "print(n==2) and ((n==7) or (answ==\"Y\"))"
      ],
      "execution_count": 30,
      "outputs": [
        {
          "output_type": "stream",
          "name": "stdout",
          "text": [
            "True\n",
            "True\n",
            "False\n",
            "False\n",
            "True\n",
            "True\n",
            "True\n",
            "False\n",
            "True\n",
            "False\n"
          ]
        }
      ]
    },
    {
      "cell_type": "code",
      "metadata": {
        "colab": {
          "base_uri": "https://localhost:8080/"
        },
        "id": "Z5tQKJjroQCL",
        "outputId": "0b037742-f2f9-4d8c-ae11-cd1f3d1cbf1f"
      },
      "source": [
        "x = 2\n",
        "y = -3\n",
        "w = 7\n",
        "z = -10\n",
        "print(x/y)\n",
        "print(w/y/x)\n",
        "print(z/y%x)\n",
        "print(x%-y*w)\n",
        "print(x%y)\n",
        "print(z%w-y/x*5+5)\n",
        "print(9-x%(2+y))\n",
        "print(z//w)\n",
        "print((2+y)**2)\n",
        "print(w/x*2)"
      ],
      "execution_count": 20,
      "outputs": [
        {
          "output_type": "stream",
          "name": "stdout",
          "text": [
            "-0.6666666666666666\n",
            "-1.1666666666666667\n",
            "1.3333333333333335\n",
            "14\n",
            "-1\n",
            "16.5\n",
            "9\n",
            "-2\n",
            "1\n",
            "7.0\n"
          ]
        }
      ]
    }
  ]
}